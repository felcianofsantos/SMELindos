{
 "nbformat": 4,
 "nbformat_minor": 2,
 "metadata": {
  "language_info": {
   "name": "python",
   "codemirror_mode": {
    "name": "ipython",
    "version": 3
   },
   "version": "3.6.9"
  },
  "orig_nbformat": 2,
  "file_extension": ".py",
  "mimetype": "text/x-python",
  "name": "python",
  "npconvert_exporter": "python",
  "pygments_lexer": "ipython3",
  "version": 3
 },
 "cells": [
  {
   "cell_type": "code",
   "execution_count": 1,
   "metadata": {},
   "outputs": [],
   "source": [
    "import pandas as pd"
   ]
  },
  {
   "source": [
    "dicionario = pd.read_excel('data/Dicionário-Hackaton.xlsx')"
   ],
   "cell_type": "code",
   "outputs": [],
   "metadata": {},
   "execution_count": 4
  },
  {
   "cell_type": "code",
   "execution_count": null,
   "metadata": {},
   "outputs": [],
   "source": []
  },
  {
   "source": [
    "dicionario"
   ],
   "cell_type": "code",
   "outputs": [
    {
     "output_type": "execute_result",
     "data": {
      "text/plain": "                       Variable name     Type  \\\n0                               DATA   object   \n1                                 ID   object   \n2                         HIERARQUIA   object   \n3                              CARGO   object   \n4                              TURNO   object   \n5                              IDADE  integer   \n6                        GENERO/SEXO   object   \n7                       ESTADO CIVIL   object   \n8                          ACIDENTES  Integer   \n9                   DATA DE ADMISSAO   object   \n10                            ESCORE  integer   \n11                             NIVEL   object   \n12                     PIOR VARIAVEL   object   \n13                        Variavel 1   object   \n14                  Valor Variavel 1   object   \n15                        Variavel 2   object   \n16                  Valor Variavel 2   object   \n17                        Variavel 3   object   \n18                  Valor Variavel 3   object   \n19                        Variavel 4   object   \n20                  Valor Variavel 4   object   \n21                        Variavel 5   object   \n22                  Valor Variavel 5   object   \n23                             G1 P1  integer   \n24                             G1 P2  integer   \n25                             G1 P3  integer   \n26                             G1 P4  integer   \n27                             G1 P5  integer   \n28                             G1 P6  integer   \n29                             G1 P7  integer   \n30                             G1 P8  integer   \n31                             G1 P9  integer   \n32                            G1 P10  integer   \n33  FREQUENCIA DE ACESSO POR PERIODO  integer   \n\n                                       Variable label                Label  \n0                       Data de execução da Avaliação  DD/MM/AAAA HH:MM:SS  \n1                                    ID do executante                  NaN  \n2                      Área de trabalho do executante                  NaN  \n3                    Função de trabalho do executante                  NaN  \n4                     Turno de trabalho do executante                  NaN  \n5                                 Idade do executante                  NaN  \n6                                  Sexo do executante  Masculino\\nFeminino  \n7                          Estado Civil do Executante                  NaN  \n8                Histórico de acidentes do executante                  NaN  \n9                      Data de admissão do executante                  NaN  \n10  Soma das variáveis G1 P1, G1 P2, G1 P3, G1 P4,...                  NaN  \n11                             Resultado da avaliação                  NaN  \n12                    Variável mais alterada avaliada                  NaN  \n13                            Variável da metodologia                  NaN  \n14                     Valor da variável da metologia                  NaN  \n15                            Variável da metodologia                  NaN  \n16                     Valor da variável da metologia                  NaN  \n17                            Variável da metodologia                  NaN  \n18                     Valor da variável da metologia                  NaN  \n19                            Variável da metodologia                  NaN  \n20                     Valor da variável da metologia                  NaN  \n21                            Variável da metodologia                  NaN  \n22                     Valor da variável da metologia                  NaN  \n23                            Variável da metodologia               SIM\\n-  \n24                            Variável da metodologia               SIM\\n-  \n25                            Variável da metodologia               SIM\\n-  \n26                            Variável da metodologia               SIM\\n-  \n27                            Variável da metodologia               SIM\\n-  \n28                            Variável da metodologia               SIM\\n-  \n29                            Variável da metodologia               SIM\\n-  \n30                            Variável da metodologia               SIM\\n-  \n31                            Variável da metodologia               SIM\\n-  \n32                            Variável da metodologia               SIM\\n-  \n33                   Quantidade de acessos no período                  NaN  ",
      "text/html": "<div>\n<style scoped>\n    .dataframe tbody tr th:only-of-type {\n        vertical-align: middle;\n    }\n\n    .dataframe tbody tr th {\n        vertical-align: top;\n    }\n\n    .dataframe thead th {\n        text-align: right;\n    }\n</style>\n<table border=\"1\" class=\"dataframe\">\n  <thead>\n    <tr style=\"text-align: right;\">\n      <th></th>\n      <th>Variable name</th>\n      <th>Type</th>\n      <th>Variable label</th>\n      <th>Label</th>\n    </tr>\n  </thead>\n  <tbody>\n    <tr>\n      <th>0</th>\n      <td>DATA</td>\n      <td>object</td>\n      <td>Data de execução da Avaliação</td>\n      <td>DD/MM/AAAA HH:MM:SS</td>\n    </tr>\n    <tr>\n      <th>1</th>\n      <td>ID</td>\n      <td>object</td>\n      <td>ID do executante</td>\n      <td>NaN</td>\n    </tr>\n    <tr>\n      <th>2</th>\n      <td>HIERARQUIA</td>\n      <td>object</td>\n      <td>Área de trabalho do executante</td>\n      <td>NaN</td>\n    </tr>\n    <tr>\n      <th>3</th>\n      <td>CARGO</td>\n      <td>object</td>\n      <td>Função de trabalho do executante</td>\n      <td>NaN</td>\n    </tr>\n    <tr>\n      <th>4</th>\n      <td>TURNO</td>\n      <td>object</td>\n      <td>Turno de trabalho do executante</td>\n      <td>NaN</td>\n    </tr>\n    <tr>\n      <th>5</th>\n      <td>IDADE</td>\n      <td>integer</td>\n      <td>Idade do executante</td>\n      <td>NaN</td>\n    </tr>\n    <tr>\n      <th>6</th>\n      <td>GENERO/SEXO</td>\n      <td>object</td>\n      <td>Sexo do executante</td>\n      <td>Masculino\\nFeminino</td>\n    </tr>\n    <tr>\n      <th>7</th>\n      <td>ESTADO CIVIL</td>\n      <td>object</td>\n      <td>Estado Civil do Executante</td>\n      <td>NaN</td>\n    </tr>\n    <tr>\n      <th>8</th>\n      <td>ACIDENTES</td>\n      <td>Integer</td>\n      <td>Histórico de acidentes do executante</td>\n      <td>NaN</td>\n    </tr>\n    <tr>\n      <th>9</th>\n      <td>DATA DE ADMISSAO</td>\n      <td>object</td>\n      <td>Data de admissão do executante</td>\n      <td>NaN</td>\n    </tr>\n    <tr>\n      <th>10</th>\n      <td>ESCORE</td>\n      <td>integer</td>\n      <td>Soma das variáveis G1 P1, G1 P2, G1 P3, G1 P4,...</td>\n      <td>NaN</td>\n    </tr>\n    <tr>\n      <th>11</th>\n      <td>NIVEL</td>\n      <td>object</td>\n      <td>Resultado da avaliação</td>\n      <td>NaN</td>\n    </tr>\n    <tr>\n      <th>12</th>\n      <td>PIOR VARIAVEL</td>\n      <td>object</td>\n      <td>Variável mais alterada avaliada</td>\n      <td>NaN</td>\n    </tr>\n    <tr>\n      <th>13</th>\n      <td>Variavel 1</td>\n      <td>object</td>\n      <td>Variável da metodologia</td>\n      <td>NaN</td>\n    </tr>\n    <tr>\n      <th>14</th>\n      <td>Valor Variavel 1</td>\n      <td>object</td>\n      <td>Valor da variável da metologia</td>\n      <td>NaN</td>\n    </tr>\n    <tr>\n      <th>15</th>\n      <td>Variavel 2</td>\n      <td>object</td>\n      <td>Variável da metodologia</td>\n      <td>NaN</td>\n    </tr>\n    <tr>\n      <th>16</th>\n      <td>Valor Variavel 2</td>\n      <td>object</td>\n      <td>Valor da variável da metologia</td>\n      <td>NaN</td>\n    </tr>\n    <tr>\n      <th>17</th>\n      <td>Variavel 3</td>\n      <td>object</td>\n      <td>Variável da metodologia</td>\n      <td>NaN</td>\n    </tr>\n    <tr>\n      <th>18</th>\n      <td>Valor Variavel 3</td>\n      <td>object</td>\n      <td>Valor da variável da metologia</td>\n      <td>NaN</td>\n    </tr>\n    <tr>\n      <th>19</th>\n      <td>Variavel 4</td>\n      <td>object</td>\n      <td>Variável da metodologia</td>\n      <td>NaN</td>\n    </tr>\n    <tr>\n      <th>20</th>\n      <td>Valor Variavel 4</td>\n      <td>object</td>\n      <td>Valor da variável da metologia</td>\n      <td>NaN</td>\n    </tr>\n    <tr>\n      <th>21</th>\n      <td>Variavel 5</td>\n      <td>object</td>\n      <td>Variável da metodologia</td>\n      <td>NaN</td>\n    </tr>\n    <tr>\n      <th>22</th>\n      <td>Valor Variavel 5</td>\n      <td>object</td>\n      <td>Valor da variável da metologia</td>\n      <td>NaN</td>\n    </tr>\n    <tr>\n      <th>23</th>\n      <td>G1 P1</td>\n      <td>integer</td>\n      <td>Variável da metodologia</td>\n      <td>SIM\\n-</td>\n    </tr>\n    <tr>\n      <th>24</th>\n      <td>G1 P2</td>\n      <td>integer</td>\n      <td>Variável da metodologia</td>\n      <td>SIM\\n-</td>\n    </tr>\n    <tr>\n      <th>25</th>\n      <td>G1 P3</td>\n      <td>integer</td>\n      <td>Variável da metodologia</td>\n      <td>SIM\\n-</td>\n    </tr>\n    <tr>\n      <th>26</th>\n      <td>G1 P4</td>\n      <td>integer</td>\n      <td>Variável da metodologia</td>\n      <td>SIM\\n-</td>\n    </tr>\n    <tr>\n      <th>27</th>\n      <td>G1 P5</td>\n      <td>integer</td>\n      <td>Variável da metodologia</td>\n      <td>SIM\\n-</td>\n    </tr>\n    <tr>\n      <th>28</th>\n      <td>G1 P6</td>\n      <td>integer</td>\n      <td>Variável da metodologia</td>\n      <td>SIM\\n-</td>\n    </tr>\n    <tr>\n      <th>29</th>\n      <td>G1 P7</td>\n      <td>integer</td>\n      <td>Variável da metodologia</td>\n      <td>SIM\\n-</td>\n    </tr>\n    <tr>\n      <th>30</th>\n      <td>G1 P8</td>\n      <td>integer</td>\n      <td>Variável da metodologia</td>\n      <td>SIM\\n-</td>\n    </tr>\n    <tr>\n      <th>31</th>\n      <td>G1 P9</td>\n      <td>integer</td>\n      <td>Variável da metodologia</td>\n      <td>SIM\\n-</td>\n    </tr>\n    <tr>\n      <th>32</th>\n      <td>G1 P10</td>\n      <td>integer</td>\n      <td>Variável da metodologia</td>\n      <td>SIM\\n-</td>\n    </tr>\n    <tr>\n      <th>33</th>\n      <td>FREQUENCIA DE ACESSO POR PERIODO</td>\n      <td>integer</td>\n      <td>Quantidade de acessos no período</td>\n      <td>NaN</td>\n    </tr>\n  </tbody>\n</table>\n</div>"
     },
     "metadata": {},
     "execution_count": 5
    }
   ],
   "metadata": {},
   "execution_count": 5
  }
 ]
}