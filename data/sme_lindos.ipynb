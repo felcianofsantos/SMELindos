{
 "cells": [
  {
   "cell_type": "markdown",
   "metadata": {},
   "source": [
    "# SME Lyndos"
   ]
  },
  {
   "cell_type": "code",
   "execution_count": 87,
   "metadata": {},
   "outputs": [],
   "source": [
    "import time\n",
    "import datetime\n",
    "import pandas as pd\n",
    "import matplotlib.pyplot as plt\n",
    "from dateutil.parser import parse\n",
    "pd.set_option('display.max_columns', 500)\n",
    "pd.set_option('display.max_rows', 500)"
   ]
  },
  {
   "cell_type": "markdown",
   "metadata": {},
   "source": [
    "### Leitura dos arquivos csv"
   ]
  },
  {
   "cell_type": "code",
   "execution_count": 88,
   "metadata": {
    "scrolled": true
   },
   "outputs": [
    {
     "name": "stderr",
     "output_type": "stream",
     "text": [
      "/anaconda3/lib/python3.6/site-packages/IPython/core/interactiveshell.py:2728: DtypeWarning: Columns (1,23,24,25,27,28,30,32) have mixed types. Specify dtype option on import or set low_memory=False.\n",
      "  interactivity=interactivity, compiler=compiler, result=result)\n",
      "/anaconda3/lib/python3.6/site-packages/IPython/core/interactiveshell.py:2728: DtypeWarning: Columns (1,23,24,25,26,27,28,30,31) have mixed types. Specify dtype option on import or set low_memory=False.\n",
      "  interactivity=interactivity, compiler=compiler, result=result)\n"
     ]
    }
   ],
   "source": [
    "df_2013 = pd.read_csv('./2013.csv', sep=';', encoding='860', engine='c')\n",
    "df_2014 = pd.read_csv('./2014.csv', sep=';', encoding='860', engine='c')\n",
    "df_2015 = pd.read_csv('./2015.csv', sep=';', encoding='860', engine='c')\n",
    "df_2016 = pd.read_csv('./2016.csv', sep=';', encoding='860', engine='c')\n",
    "df_2017 = pd.read_csv('./2017.csv', sep=';', encoding='860', engine='c')\n",
    "df_2018 = pd.read_csv('./2018.csv', sep=';', encoding='860', engine='c')"
   ]
  },
  {
   "cell_type": "code",
   "execution_count": 89,
   "metadata": {},
   "outputs": [],
   "source": [
    "# Ano de 2013\n",
    "acidentes_2013 = df_2013['ACIDENTES']\n",
    "dados_2013 = df_2013.drop(columns='ACIDENTES')\n",
    "# Ano de 2014\n",
    "acidentes_2014 = df_2014['ACIDENTES']\n",
    "dados_2014 = df_2014.drop(columns='ACIDENTES')\n",
    "# Ano de 2015\n",
    "acidentes_2015 = df_2015['ACIDENTES']\n",
    "dados_2015 = df_2015.drop(columns='ACIDENTES')\n",
    "ids_2015 = df_2015['ID']\n",
    "# Ano de 2016\n",
    "acidentes_2016 = df_2016['ACIDENTES']\n",
    "dados_2016 = df_2016.drop(columns='ACIDENTES')\n",
    "ids_2016 = df_2016['ID']\n",
    "# Ano de 2017\n",
    "acidentes_2017 = df_2017['ACIDENTES']\n",
    "dados_2017 = df_2017.drop(columns='ACIDENTES')\n",
    "ids_2017 = df_2017['ID']\n",
    "# Ano de 2018\n",
    "acidentes_2018 = df_2018['ACIDENTES']\n",
    "dados_2018 = df_2018.drop(columns='ACIDENTES')\n",
    "ids_2018 = df_2018['ID']"
   ]
  },
  {
   "cell_type": "code",
   "execution_count": 90,
   "metadata": {},
   "outputs": [
    {
     "data": {
      "text/plain": [
       "'terτa-feira 02/jun/15, hora: 15:30. Empreg. VALE S/A na USINA VIII  PR╙XIMO DA MOAGEM - EMPREGADO RELATA QUE AO DESCER A ESCADA DA DESCARGA DA TRANSPORTADORA TR 811 (PR╙XIMO DA MOAGEM), FOI PICADO POR MARIMBOMBO.'"
      ]
     },
     "execution_count": 90,
     "metadata": {},
     "output_type": "execute_result"
    }
   ],
   "source": [
    "#dados_2015[dados_2015['ID']==176727]\n",
    "#acidentes_2015[dados_2015['ID']==176727]\n",
    "# por_id = df_2015[df_2015['ID']==308882]\n",
    "df_2015[df_2015['ID']==176727]\n",
    "df_2015.iloc[23]['DADOS DO ACIDENTE']"
   ]
  },
  {
   "cell_type": "code",
   "execution_count": 91,
   "metadata": {},
   "outputs": [],
   "source": [
    "teste de extrair data\n",
    "string_ = \"terτa-feira 02/jun/15, hora: 15:30. Empreg. VALE S/A na USINA VIII  PR╙XIMO DA MOAGEM - EMPREGADO RELATA QUE AO DESCER A ESCADA DA DESCARGA DA TRANSPORTADORA TR 811 (PR╙XIMO DA MOAGEM), FOI PICADO POR MARIMBOMBO.\"\n",
    "string = string_[0:40]\n",
    "x = parse(string, fuzzy_with_tokens=True)\n",
    "x[0]\n",
    "tt = x[0].timetuple()\n",
    "for it in tt:   \n",
    "    print(it)"
   ]
  },
  {
   "cell_type": "markdown",
   "metadata": {},
   "source": [
    "### Tratamento dos dados / ano"
   ]
  },
  {
   "cell_type": "code",
   "execution_count": 92,
   "metadata": {},
   "outputs": [
    {
     "name": "stdout",
     "output_type": "stream",
     "text": [
      "\n",
      "Gastou 24.028957843780518 segundos.\n"
     ]
    }
   ],
   "source": [
    "###############################\n",
    "# ANO DE 2013\n",
    "###############################\n",
    "\n",
    "df = df_2013\n",
    "dados_dict = dict()\n",
    "ids_processados_2013 = list()\n",
    "nivel_lim = 3\n",
    "prox_entradas = 7\n",
    "aconteceu_acidente = 0\n",
    "start_time = time.time()\n",
    "\n",
    "for index, row in df.iterrows():\n",
    "    # pega o id atual\n",
    "    current_id = row['ID']\n",
    "    \n",
    "    # se o id é novo, adiciona ele na lista pra ele não ser processado novamente\n",
    "    # e faz o processamento\n",
    "    if not current_id in ids_processados_2013:\n",
    "        \n",
    "        # adiciona ele na lista de ids já processados\n",
    "        ids_processados_2013.append(current_id)\n",
    "        \n",
    "        # pega os dados relativos ao current_id\n",
    "        dados_id = df[df['ID']==current_id]\n",
    "        \n",
    "        # itera nos dados do ID procurando por um nivel alto\n",
    "        checked_rows = 7\n",
    "        for index, row in dados_id.iterrows():\n",
    "\n",
    "            # se encontra um nivel alto\n",
    "            if row['NIVEL'] > nivel_lim:\n",
    "                num_acidentes_nivel_lim = row['ACIDENTES']\n",
    "                checked_rows = 0\n",
    "\n",
    "            # procura nas próximas entradas prox_entradas\n",
    "            if checked_rows < prox_entradas:\n",
    "\n",
    "                # se foi incrementado, é porque aconteceu acidente\n",
    "                if (row['ACIDENTES'] == num_acidentes_nivel_lim + 1):\n",
    "                    aconteceu_acidente = 1\n",
    "                    #print(row['DADOS DO ACIDENTE'])\n",
    "                    print(\"aconteceu acidente para o id\", current_id, \"flag=\",aconteceu_acidente)\n",
    "                    checked_rows = 8\n",
    "                else:\n",
    "                    checked_rows = checked_rows + 1        \n",
    "            \n",
    "    # id já foi processado   \n",
    "    else:\n",
    "        continue\n",
    "\n",
    "elapsed_time = time.time() - start_time\n",
    "print(\"\\nGastou\", elapsed_time, \"segundos.\")"
   ]
  },
  {
   "cell_type": "code",
   "execution_count": 93,
   "metadata": {},
   "outputs": [
    {
     "name": "stdout",
     "output_type": "stream",
     "text": [
      "\n",
      "Gastou 99.4005959033966 segundos.\n"
     ]
    }
   ],
   "source": [
    "###############################\n",
    "# ANO DE 2014\n",
    "###############################\n",
    "\n",
    "df = df_2014\n",
    "dados_dict = dict()\n",
    "ids_processados_2014 = list()\n",
    "nivel_lim = 3\n",
    "prox_entradas = 7\n",
    "aconteceu_acidente = 0\n",
    "start_time = time.time()\n",
    "\n",
    "for index, row in df.iterrows():\n",
    "    # pega o id atual\n",
    "    current_id = row['ID']\n",
    "    \n",
    "    # se o id é novo, adiciona ele na lista pra ele não ser processado novamente\n",
    "    # e faz o processamento\n",
    "    if not current_id in ids_processados_2014:\n",
    "        \n",
    "        # adiciona ele na lista de ids já processados\n",
    "        ids_processados_2014.append(current_id)\n",
    "        \n",
    "        # pega os dados relativos ao current_id\n",
    "        dados_id = df[df['ID']==current_id]\n",
    "        \n",
    "        # itera nos dados do ID procurando por um nivel alto\n",
    "        checked_rows = 7\n",
    "        for index, row in dados_id.iterrows():\n",
    "\n",
    "            # se encontra um nivel alto\n",
    "            if row['NIVEL'] > nivel_lim:\n",
    "                num_acidentes_nivel_lim = row['ACIDENTES']\n",
    "                checked_rows = 0\n",
    "\n",
    "            # procura nas próximas entradas\n",
    "            if checked_rows < prox_entradas:\n",
    "\n",
    "                # se foi incrementado, é porque aconteceu acidente\n",
    "                if (row['ACIDENTES'] == num_acidentes_nivel_lim + 1):\n",
    "                    aconteceu_acidente = 1\n",
    "                    # print(row['DADOS DO ACIDENTE'])\n",
    "                    print(\"Aconteceu acidente para o id\", current_id, \"flag=\",aconteceu_acidente)\n",
    "                    checked_rows = 8\n",
    "                else:\n",
    "                    checked_rows = checked_rows + 1        \n",
    "            \n",
    "    # id já foi processado   \n",
    "    else:\n",
    "        continue\n",
    "        \n",
    "elapsed_time = time.time() - start_time\n",
    "print(\"\\nGastou\", elapsed_time, \"segundos.\")"
   ]
  },
  {
   "cell_type": "code",
   "execution_count": 94,
   "metadata": {},
   "outputs": [
    {
     "name": "stdout",
     "output_type": "stream",
     "text": [
      "------------------------------------------\n",
      "Aconteceu acidente para o ID 176727\n",
      "DADOS DO ACIDENTE:  terτa-feira 02/jun/15, hora: 15:30. Empreg. VALE S/A na USINA VIII  PR╙XIMO DA MOAGEM - EMPREGADO RELATA QUE AO DESCER A ESCADA DA DESCARGA DA TRANSPORTADORA TR 811 (PR╙XIMO DA MOAGEM), FOI PICADO POR MARIMBOMBO.\n",
      "------------------------------------------\n",
      "Aconteceu acidente para o ID 524938\n",
      "DADOS DO ACIDENTE:  quarta-feira 13/mai/15, hora: 08:50. Empreg. VALE S/A na P┴TIO DE OFICINA MEC┬NICA - EMPREGADO RELATA QUE AO REMOVER UMA VIGA DA PRATELEIRA DE PERFIS, SUBINDO NO PRIMEIRO ANDAR, APROXIMDAMENTE 60 CM DO CH├O, PARA POSICIONAR A VIGA, AO DESCER ESCORREGOU E AO APOIAR A M├O DIREITA NA CA╟AMBA DE SUCATA SOFREU LES├O NO QUARTO DEDO.\n",
      "------------------------------------------\n",
      "Aconteceu acidente para o ID 508243\n",
      "DADOS DO ACIDENTE:  segunda-feira 22/jun/15, hora: 10:30. Empreg. VALE S/A na LABORATORIO FISICO DO PORTO MINERIO - EMPREGADA RELATA QUE AO COLOCAR O MATEIRAL PARA SECAGEM NA ESTUFA, A PORTA DA ESTUFA VEIO FECHAR  E A SUPERFICIE QUENTE VEIO A ENCOSTAR EM  SEU COTOVELO DIREITO. \n",
      "------------------------------------------\n",
      "Aconteceu acidente para o ID 487065\n",
      "DADOS DO ACIDENTE:  sexta-feira 23/out/15, hora: 01:40. Empreg. VALE S/A na P┴TIO DE FINO USINA 08  - PR╙XIMO DA PETROBRAS - EMPREGADO RELATA QUE AO ABAIXAR PRA SOLTAR O BRA╟O DA CA╟AMBA, VEIO A BATER A CABE╟A NA ESTRUTURA DA RODA DA CA╟AMBA ( ESTAVA USANDO O CAPACETE)\n",
      "------------------------------------------\n",
      "Aconteceu acidente para o ID 485357\n",
      "DADOS DO ACIDENTE:  SEM ACIDENTE NO ANO\n",
      "------------------------------------------\n",
      "Aconteceu acidente para o ID 843789\n",
      "DADOS DO ACIDENTE:  quinta-feira 18/jun/15, hora: 10:00. Empreg. VALE S/A na EDIF═CIO VALER - ┴REA DE VIVENCIA - EMPREGADO RELATA QUE AO FECHAR A PORTA DE VIDRO A MESMA QUEBROU E PEDA╟OS DE VIDRO ATINGIU O BRA╟O ESQUERDO.\n",
      "\n",
      "Gastou 62.69713807106018 segundos.\n"
     ]
    }
   ],
   "source": [
    "###############################\n",
    "# ANO DE 2015\n",
    "###############################\n",
    "\n",
    "df = df_2015\n",
    "dados_dict = dict()\n",
    "ids_processados_2015 = list()\n",
    "nivel_lim = 3\n",
    "prox_entradas = 7\n",
    "aconteceu_acidente = 0\n",
    "start_time = time.time()\n",
    "\n",
    "for index, row in df.iterrows():\n",
    "    # pega o id atual\n",
    "    current_id = row['ID']\n",
    "    \n",
    "    # se o id é novo, adiciona ele na lista pra ele não ser processado novamente\n",
    "    # e faz o processamento\n",
    "    if not current_id in ids_processados_2015:\n",
    "        \n",
    "        # adiciona ele na lista de ids já processados\n",
    "        ids_processados_2015.append(current_id)\n",
    "        \n",
    "        # pega os dados relativos ao current_id\n",
    "        dados_id = df[df['ID']==current_id]\n",
    "        \n",
    "        # itera nos dados do ID procurando por um nivel alto\n",
    "        checked_rows = 7\n",
    "        for index, row in dados_id.iterrows():\n",
    "\n",
    "            # se encontra um nivel alto\n",
    "            if row['NIVEL'] > nivel_lim:\n",
    "                num_acidentes_nivel_lim = row['ACIDENTES']\n",
    "                checked_rows = 0\n",
    "\n",
    "            # procura nas próximas entradas\n",
    "            if checked_rows < prox_entradas:\n",
    "\n",
    "                # se foi incrementado, é porque aconteceu acidente\n",
    "                if (row['ACIDENTES'] == num_acidentes_nivel_lim + 1):\n",
    "                    aconteceu_acidente = 1\n",
    "                    print(\"------------------------------------------\")\n",
    "                    print(\"Aconteceu acidente para o ID\", current_id)\n",
    "                    print(\"DADOS DO ACIDENTE: \", row['DADOS DO ACIDENTE'])\n",
    "                    checked_rows = 8\n",
    "                else:\n",
    "                    checked_rows = checked_rows + 1        \n",
    "            \n",
    "    # id já foi processado   \n",
    "    else:\n",
    "        continue\n",
    "        \n",
    "elapsed_time = time.time() - start_time\n",
    "print(\"\\nGastou\", elapsed_time, \"segundos.\")"
   ]
  },
  {
   "cell_type": "code",
   "execution_count": 95,
   "metadata": {},
   "outputs": [
    {
     "name": "stdout",
     "output_type": "stream",
     "text": [
      "Gastou 88.05105876922607 segundos.\n"
     ]
    }
   ],
   "source": [
    "###############################\n",
    "#   ANO DE 2016\n",
    "###############################\n",
    "\n",
    "df = df_2016\n",
    "dados_dict = dict()\n",
    "ids_processados_2016 = list()\n",
    "nivel_lim = 3\n",
    "prox_entradas = 7\n",
    "aconteceu_acidente = 0\n",
    "start_time = time.time()\n",
    "\n",
    "for index, row in df.iterrows():\n",
    "    # pega o id atual\n",
    "    current_id = row['ID']\n",
    "    \n",
    "    # se o id é novo, adiciona ele na lista pra ele não ser processado novamente\n",
    "    # e faz o processamento\n",
    "    if not current_id in ids_processados_2016:\n",
    "        \n",
    "        # adiciona ele na lista de ids já processados\n",
    "        ids_processados_2016.append(current_id)\n",
    "        \n",
    "        # pega os dados relativos ao current_id\n",
    "        dados_id = df[df['ID']==current_id]\n",
    "        \n",
    "        # itera nos dados do ID procurando por um nivel alto\n",
    "        checked_rows = 7\n",
    "        for index, row in dados_id.iterrows():\n",
    "\n",
    "            # se encontra um nivel alto\n",
    "            if row['NIVEL'] > nivel_lim:\n",
    "                num_acidentes_nivel_lim = row['ACIDENTES']\n",
    "                checked_rows = 0\n",
    "\n",
    "            # procura nas próximas entradas\n",
    "            if checked_rows < prox_entradas:\n",
    "\n",
    "                # se foi incrementado, é porque aconteceu acidente\n",
    "                if (row['ACIDENTES'] == num_acidentes_nivel_lim + 1):\n",
    "                    aconteceu_acidente = 1\n",
    "                    print(\"------------------------------------------\")\n",
    "                    print(\"Aconteceu acidente para o ID\", current_id)\n",
    "                    print(\"DADOS DO ACIDENTE: \", row['DADOS DO ACIDENTE'])\n",
    "                    checked_rows = 8\n",
    "                else:\n",
    "                    checked_rows = checked_rows + 1        \n",
    "            \n",
    "    # id já foi processado   \n",
    "    else:\n",
    "        continue\n",
    "        \n",
    "elapsed_time = time.time() - start_time\n",
    "print(\"Gastou\", elapsed_time, \"segundos.\")"
   ]
  },
  {
   "cell_type": "code",
   "execution_count": 96,
   "metadata": {},
   "outputs": [
    {
     "name": "stdout",
     "output_type": "stream",
     "text": [
      "\n",
      "Gastou 105.91183471679688 segundos.\n"
     ]
    }
   ],
   "source": [
    "###############################\n",
    "# ANO DE 2017\n",
    "###############################\n",
    "\n",
    "df = df_2017\n",
    "dados_dict = dict()\n",
    "ids_processados_2017 = list()\n",
    "nivel_lim = 3\n",
    "prox_entradas = 7\n",
    "aconteceu_acidente = 0\n",
    "start_time = time.time()\n",
    "\n",
    "for index, row in df.iterrows():\n",
    "    # pega o id atual\n",
    "    current_id = row['ID']\n",
    "    \n",
    "    # se o id é novo, adiciona ele na lista pra ele não ser processado novamente\n",
    "    # e faz o processamento\n",
    "    if not current_id in ids_processados_2017:\n",
    "        \n",
    "        # adiciona ele na lista de ids já processados\n",
    "        ids_processados_2017.append(current_id)\n",
    "        \n",
    "        # pega os dados relativos ao current_id\n",
    "        dados_id = df[df['ID']==current_id]\n",
    "        \n",
    "        # itera nos dados do ID procurando por um nivel alto\n",
    "        checked_rows = 7\n",
    "        for index, row in dados_id.iterrows():\n",
    "\n",
    "            # se encontra um nivel alto\n",
    "            if row['NIVEL'] > nivel_lim:\n",
    "                num_acidentes_nivel_lim = row['ACIDENTES']\n",
    "                checked_rows = 0\n",
    "\n",
    "            # procura nas próximas entradas\n",
    "            if checked_rows < prox_entradas:\n",
    "\n",
    "                # se foi incrementado, é porque aconteceu acidente\n",
    "                if (row['ACIDENTES'] == num_acidentes_nivel_lim + 1):\n",
    "                    aconteceu_acidente = 1\n",
    "                    print(\"------------------------------------------\")\n",
    "                    print(\"Aconteceu acidente para o ID\", current_id)\n",
    "                    print(\"DADOS DO ACIDENTE: \", row['DADOS DO ACIDENTE'])\n",
    "                    checked_rows = 8\n",
    "                else:\n",
    "                    checked_rows = checked_rows + 1        \n",
    "            \n",
    "    # id já foi processado   \n",
    "    else:\n",
    "        continue\n",
    "        \n",
    "elapsed_time = time.time() - start_time\n",
    "print(\"\\nGastou\", elapsed_time, \"segundos.\")"
   ]
  },
  {
   "cell_type": "code",
   "execution_count": 97,
   "metadata": {
    "scrolled": true
   },
   "outputs": [
    {
     "name": "stdout",
     "output_type": "stream",
     "text": [
      "\n",
      "Gastou 33.234469175338745 segundos.\n"
     ]
    }
   ],
   "source": [
    "###############################\n",
    "# ANO DE 2018\n",
    "###############################\n",
    "\n",
    "df = df_2018\n",
    "dados_dict = dict()\n",
    "ids_processados_2018 = list()\n",
    "nivel_lim = 3\n",
    "prox_entradas = 7\n",
    "aconteceu_acidente = 0\n",
    "start_time = time.time()\n",
    "\n",
    "for index, row in df.iterrows():\n",
    "    \n",
    "    # pega o id atual\n",
    "    current_id = row['ID']\n",
    "    \n",
    "    # se o id é novo, adiciona ele na lista pra ele não ser processado novamente\n",
    "    # e faz o processamento\n",
    "    if not current_id in ids_processados_2018:\n",
    "        \n",
    "        # adiciona ele na lista de ids já processados\n",
    "        ids_processados_2018.append(current_id)\n",
    "        \n",
    "        # pega os dados relativos ao current_id\n",
    "        dados_id = df[df['ID']==current_id]\n",
    "        \n",
    "        # itera nos dados do ID procurando por um nivel alto\n",
    "        checked_rows = 7\n",
    "        for index, row in dados_id.iterrows():\n",
    "\n",
    "            # se encontra um nivel alto\n",
    "            if row['NIVEL'] > nivel_lim:\n",
    "                num_acidentes_nivel_lim = row['ACIDENTES']\n",
    "                checked_rows = 0\n",
    "\n",
    "            # procura nas próximas entradas\n",
    "            if checked_rows < prox_entradas:\n",
    "\n",
    "                # se foi incrementado, é porque aconteceu acidente\n",
    "                if (row['ACIDENTES'] == num_acidentes_nivel_lim + 1):\n",
    "                    aconteceu_acidente = 1\n",
    "                    print(\"------------------------------------------\")\n",
    "                    print(\"Aconteceu acidente para o ID\", current_id)\n",
    "                    print(\"DADOS DO ACIDENTE: \", row['DADOS DO ACIDENTE'])\n",
    "                    checked_rows = 8\n",
    "                else:\n",
    "                    checked_rows = checked_rows + 1        \n",
    "            \n",
    "    # id já foi processado   \n",
    "    else:\n",
    "        continue\n",
    "        \n",
    "elapsed_time = time.time() - start_time\n",
    "print(\"\\nGastou\", elapsed_time, \"segundos.\")"
   ]
  },
  {
   "cell_type": "markdown",
   "metadata": {},
   "source": [
    "### Tentando buscar IDs os quais fizeram teste no dia do acidente\n"
   ]
  },
  {
   "cell_type": "code",
   "execution_count": 98,
   "metadata": {},
   "outputs": [
    {
     "name": "stdout",
     "output_type": "stream",
     "text": [
      "\n",
      "Gastou 35.36240005493164 segundos.\n"
     ]
    }
   ],
   "source": [
    "###############################\n",
    "# ANO DE 2018\n",
    "###############################\n",
    "\n",
    "df = df_2018\n",
    "dados_dict = dict()\n",
    "ids_processados_2018 = list()\n",
    "nivel_lim = 3\n",
    "prox_entradas = 7\n",
    "aconteceu_acidente = 0\n",
    "start_time = time.time()\n",
    "\n",
    "for index, row in df.iterrows():\n",
    "    \n",
    "    # pega o id atual\n",
    "    current_id = row['ID']\n",
    "    \n",
    "    # se o id é novo, adiciona ele na lista pra ele não ser processado novamente\n",
    "    # e faz o processamento\n",
    "    if not current_id in ids_processados_2018:\n",
    "        \n",
    "        # adiciona ele na lista de ids já processados\n",
    "        ids_processados_2018.append(current_id)\n",
    "        \n",
    "        # pega os dados relativos ao current_id\n",
    "        dados_id = df[df['ID']==current_id]\n",
    "        \n",
    "        # itera nos dados do ID procurando por um nivel alto\n",
    "        checked_rows = 7\n",
    "        for index, row in dados_id.iterrows():\n",
    "\n",
    "            # se encontra um nivel alto\n",
    "            if row['NIVEL'] > nivel_lim:\n",
    "                num_acidentes_nivel_lim = row['ACIDENTES']\n",
    "                checked_rows = 0\n",
    "\n",
    "            # procura nas próximas entradas\n",
    "            if checked_rows < prox_entradas:\n",
    "\n",
    "                # se foi incrementado, é porque aconteceu acidente\n",
    "                if (row['ACIDENTES'] == num_acidentes_nivel_lim + 1):\n",
    "                    aconteceu_acidente = 1\n",
    "                    print(\"------------------------------------------\")\n",
    "                    print(\"Aconteceu acidente para o ID\", current_id)\n",
    "                    print(\"DADOS DO ACIDENTE: \", row['DADOS DO ACIDENTE'])\n",
    "                    checked_rows = 8\n",
    "                else:\n",
    "                    checked_rows = checked_rows + 1        \n",
    "            \n",
    "    # id já foi processado   \n",
    "    else:\n",
    "        continue\n",
    "        \n",
    "elapsed_time = time.time() - start_time\n",
    "print(\"\\nGastou\", elapsed_time, \"segundos.\")"
   ]
  },
  {
   "cell_type": "code",
   "execution_count": null,
   "metadata": {},
   "outputs": [],
   "source": []
  }
 ],
 "metadata": {
  "kernelspec": {
   "display_name": "Python 3",
   "language": "python",
   "name": "python3"
  },
  "language_info": {
   "codemirror_mode": {
    "name": "ipython",
    "version": 3
   },
   "file_extension": ".py",
   "mimetype": "text/x-python",
   "name": "python",
   "nbconvert_exporter": "python",
   "pygments_lexer": "ipython3",
   "version": "3.6.8"
  }
 },
 "nbformat": 4,
 "nbformat_minor": 2
}
